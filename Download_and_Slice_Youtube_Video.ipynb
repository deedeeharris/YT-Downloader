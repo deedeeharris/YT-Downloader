{
  "nbformat": 4,
  "nbformat_minor": 0,
  "metadata": {
    "colab": {
      "provenance": [],
      "toc_visible": true,
      "authorship_tag": "ABX9TyPLQhXNNI/zaxT1GKzXhm4U",
      "include_colab_link": true
    },
    "kernelspec": {
      "name": "python3",
      "display_name": "Python 3"
    },
    "language_info": {
      "name": "python"
    }
  },
  "cells": [
    {
      "cell_type": "markdown",
      "metadata": {
        "id": "view-in-github",
        "colab_type": "text"
      },
      "source": [
        "<a href=\"https://colab.research.google.com/github/deedeeharris/YT-Downloader/blob/main/Download_and_Slice_Youtube_Video.ipynb\" target=\"_parent\"><img src=\"https://colab.research.google.com/assets/colab-badge.svg\" alt=\"Open In Colab\"/></a>"
      ]
    },
    {
      "cell_type": "code",
      "source": [
        "# @title YouTube Video Downloader and Slicer - [Yedidya Harris](https://www.linkedin.com/in/yedidya-harris/)\n",
        "\n",
        "# Install required libraries\n",
        "!pip install pytube\n",
        "\n",
        "# Install ffmpeg (required for video processing)\n",
        "!apt install ffmpeg\n",
        "\n",
        "# Import the necessary modules\n",
        "from pytube import YouTube\n",
        "from google.colab import files\n",
        "\n",
        "#@markdown ## Introduction\n",
        "#@markdown This notebook allows you to download a YouTube video and create a sliced version of it.\n",
        "\n",
        "#@markdown **Instructions:**\n",
        "#@markdown 1. Enter the YouTube video URL in the input field below.\n",
        "#@markdown 2. Specify the start and end times for the slice in the format \"HH:MM:SS\" in the respective input fields.\n",
        "#@markdown 3. Run this cell, and the video will be downloaded.\n",
        "\n",
        "#@markdown **Note:** The downloaded video will be in MP4 format with the original quality.\n",
        "\n",
        "#@markdown ## Video Download\n",
        "#@markdown Enter the YouTube video URL:\n",
        "video_url = \"https://www.youtube.com/watch?v=VRaNNW8qC8E\" # @param {type:\"string\"}\n",
        "\n",
        "#@markdown Click the button to download the video.\n",
        "if video_url:\n",
        "  # Create a YouTube object\n",
        "  yt = YouTube(video_url)\n",
        "\n",
        "  # Download the highest resolution video\n",
        "  print(\"Downloading the video...\")\n",
        "  video = yt.streams.get_highest_resolution()\n",
        "  video.download(filename='downloaded_video.mp4')\n",
        "  print(\"Video downloaded successfully!\")\n",
        "\n",
        "#@markdown ## Video Slicing\n",
        "#@markdown Enter the start time (HH:MM:SS):\n",
        "start_time = \"00:01:00\" # @param {type:\"string\"}\n",
        "\n",
        "#@markdown Enter the end time (HH:MM:SS):\n",
        "end_time = \"00:02:00\" # @param {type:\"string\"}\n",
        "\n",
        "#@markdown Click the button to create the sliced video.\n",
        "if start_time and end_time:\n",
        "  # Slice the video using ffmpeg\n",
        "  print(\"Creating the sliced video...\")\n",
        "  !ffmpeg -i downloaded_video.mp4 -ss {start_time} -to {end_time} -c copy -y sliced_video.mp4\n",
        "  print(\"Sliced video created successfully!\")\n",
        "\n",
        "#@markdown ## Download Sliced Video\n",
        "\n",
        "#@markdown Run this cell download the sliced video.\n",
        "files.download('sliced_video.mp4')"
      ],
      "metadata": {
        "cellView": "form",
        "id": "uX7W0Rxz2lx5"
      },
      "execution_count": null,
      "outputs": []
    }
  ]
}